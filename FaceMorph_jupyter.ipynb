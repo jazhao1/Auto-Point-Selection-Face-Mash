{
 "cells": [
  {
   "cell_type": "code",
   "execution_count": 18,
   "metadata": {},
   "outputs": [],
   "source": [
    "# USAGE\n",
    "# py faceMorph.py -i images/strange.jpg -j images/tony.jpg\n",
    "\n",
    "from scipy.spatial import Delaunay\n",
    "from imutils import face_utils\n",
    "import numpy as np\n",
    "import argparse\n",
    "import imutils\n",
    "import dlib\n",
    "import cv2\n",
    "from tools import *\n"
   ]
  },
  {
   "cell_type": "code",
   "execution_count": 19,
   "metadata": {},
   "outputs": [],
   "source": [
    "# # construct the argument parser and parse the arguments\n",
    "# ap = argparse.ArgumentParser()\n",
    "# ap.add_argument(\"-i\", \"--image1\", required=True,\n",
    "#      help=\"path to input image 1\")\n",
    "# ap.add_argument(\"-j\", \"--image2\", required=True,\n",
    "#      help=\"path to input image 2\")\n",
    "# args = vars(ap.parse_args())\n",
    "\n",
    "# # initialize dlib's face detector (HOG-based) and then create\n",
    "# # the facial landmark predictor\n",
    "# detector = dlib.get_frontal_face_detector()\n",
    "# predictor = dlib.shape_predictor('shape_predictor_68_face_landmarks.dat')\n",
    "\n",
    "# # load the input images, resize it, and convert it to grayscale\n",
    "# im1 = cv2.imread(args[\"image1\"])\n",
    "# im2 = cv2.imread(args[\"image2\"])\n",
    "\n",
    "im1 = cv2.imread('images/strange.jpg',-1)\n",
    "im2 = cv2.imread('images/tony.jpg',-1)\n",
    "\n",
    "\n",
    "# cv2.imshow('image',im1)\n",
    "# cv2.waitKey(0)"
   ]
  },
  {
   "cell_type": "code",
   "execution_count": 20,
   "metadata": {},
   "outputs": [],
   "source": [
    "im1 = imutils.resize(im1, width=500)\n",
    "im2 = imutils.resize(im2, width=500)\n",
    "\n",
    "detector = dlib.get_frontal_face_detector()\n",
    "predictor = dlib.shape_predictor('shape_predictor_68_face_landmarks.dat')\n",
    "          \n",
    "# get points for each images facial feature \n",
    "points1 = get_shape(im1, detector, predictor)\n",
    "points2 = get_shape(im2, detector, predictor)\n",
    "\n",
    "# average each corresponding points to get the average points\n",
    "avgPoints = ((points1 + points2)/2)\n"
   ]
  },
  {
   "cell_type": "code",
   "execution_count": 21,
   "metadata": {},
   "outputs": [
    {
     "data": {
      "text/plain": [
       "True"
      ]
     },
     "execution_count": 21,
     "metadata": {},
     "output_type": "execute_result"
    }
   ],
   "source": [
    "\n",
    "# apply Delaunay in order to form triangluar areas of the image for morphing.\n",
    "# get tri points to build Masks and Affine of the two images\n",
    "tri = Delaunay(avgPoints)\n",
    "\n",
    "ori_tri_pts = points1[tri.simplices]\n",
    "dest_tri_pts = points2[tri.simplices]\n",
    "mid_tri_pts = avgPoints[tri.simplices]\n",
    "\n",
    "width, height  = np.shape(im1)[1], np.shape(im2)[0]\n",
    "\n",
    "mid_tri_pts_masks1, mid_tri_pts_affine1 = getMaskAffines(ori_tri_pts, mid_tri_pts, height, width)\n",
    "mid_tri_pts_masks2, mid_tri_pts_affine2 = getMaskAffines(dest_tri_pts, mid_tri_pts, height, width)\n",
    "\n",
    "# using the mask and affine, construct middle image\n",
    "mid_img1 = getMidImage(im1,mid_tri_pts, mid_tri_pts_masks1, mid_tri_pts_affine1, height, width) \n",
    "mid_img2 = getMidImage(im2,mid_tri_pts, mid_tri_pts_masks2, mid_tri_pts_affine2, height, width)\n",
    "mid_img = mid_img1/2 + mid_img2/2\n",
    "git st\n",
    "show(mid_img)\n",
    "\n",
    "cv2.imwrite(\"output/final.png\", mid_img)"
   ]
  },
  {
   "cell_type": "code",
   "execution_count": null,
   "metadata": {},
   "outputs": [],
   "source": []
  },
  {
   "cell_type": "code",
   "execution_count": null,
   "metadata": {},
   "outputs": [],
   "source": []
  },
  {
   "cell_type": "code",
   "execution_count": null,
   "metadata": {},
   "outputs": [],
   "source": []
  }
 ],
 "metadata": {
  "kernelspec": {
   "display_name": "Python 3",
   "language": "python",
   "name": "python3"
  },
  "language_info": {
   "codemirror_mode": {
    "name": "ipython",
    "version": 3
   },
   "file_extension": ".py",
   "mimetype": "text/x-python",
   "name": "python",
   "nbconvert_exporter": "python",
   "pygments_lexer": "ipython3",
   "version": "3.5.5"
  },
  "widgets": {
   "state": {},
   "version": "1.1.2"
  }
 },
 "nbformat": 4,
 "nbformat_minor": 2
}
